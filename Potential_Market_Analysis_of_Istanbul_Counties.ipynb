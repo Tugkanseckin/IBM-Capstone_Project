{
 "cells": [
  {
   "cell_type": "markdown",
   "metadata": {},
   "source": [
    "<h1>Potential Market Analysis of Istanbul Counties<h1>"
   ]
  },
  {
   "cell_type": "markdown",
   "metadata": {},
   "source": [
    "<font size=\"4\">**Introduction**</font>"
   ]
  },
  {
   "cell_type": "markdown",
   "metadata": {},
   "source": [
    "<p>Firs of all I want to talk about a very common example. Most of you might have heard this story. our story is about one of the biggest retail sale chain store Wal-Mart! Wal-Mart management decided to collect and merge the data from customer card system. Wal-Mart management can follow the of the customers: where, when and what they bought recently. With the result of these combinations, it occured that there had been a connection among different products. A part of these connections were predictable. For instance, a customer who buys gin, also buys tonic water and lemon. The result which had been unpredictable was the connection between diaper and beer. Apparently, the male customers who bought diapers on Friday night also were inclined to buy  beer. Nobody foresaw the connection between them and it was an elusive connection to question. After the connection had been seen between diapers and beers, Wal-Mart management decided to move beer section near the diaper section. And of course, the beer sales increased as it was predicted.<p>\n",
    "    \n",
    "<p>The first time when I heard this story, it was my first year at Information Systems Engineering. I had no information about Data Science Techniques and Methodology. I eventually understood this field would be a good choice for me. Because, as you can understand from this story I have told above; I may have an opportunity to see the unseen and reveal it.<p>\n",
    "    \n",
    "<p>I have been preparing this project in the senior year of my Information Systems Engineering. I have learnt alot of things from a lot of people. However, I am at the bottom of the ladder.<p>\n",
    "    \n",
    "<p>If we talk about this project, it has been prepared for the last section Applied Capstone Project of IBM Data Science Proffessional Certificate. This project aims to find this answer: If you decided to open a fast food restaurant in ıstanbul where would it be? I will use the detailed explanation in Data Requirements, Data Collection and Data Understanding section  to find the answer of this question. After that, I will create a model with the data and check the results of it.<p>\n",
    "    \n",
    "<p>I would like to give the detailed order of my project. Data Scince Methodology is created in 10 steps. I will make a point of following these steps. Here are the steps I will follow;<p>\n",
    "    \n",
    "<ol>\n",
    "  <li>Business Understanding</li>\n",
    "  <li>Analytic Approach</li>\n",
    "  <li>Data Requirements</li>\n",
    "  <li>Data Collection</li>\n",
    "  <li>Data Understanding</li>\n",
    "  <li>Data Preperation</li>\n",
    "  <li>Modeling</li>\n",
    "  <li>Evaluation</li>\n",
    "  <li>Deployment</li>\n",
    "  <li>Feedback</li>\n",
    "       \n",
    "</ol> \n",
    "    \n",
    "<br>    \n",
    "    \n",
    "**1. Business Understanding and Analytic Approach**    \n",
    "\n",
    "<br>\n",
    "<p>I have actually explained what kind of thing I will work on. However, it will be better to focus on this section more detailed. Think that you are the owner of the fast food chain restaurant out of Turkey. You serve a lot of countries and cities around the world and its time for you to break into market in Turkey. Most of people know that one of the most crowded cities in Turkey is Istanbul and it is also a worldwide known city in the world. This city is very suitable for breaking into market in Turkey and gaining a better seat in the industry. However,  you don't have any information about the conditions of counties in Istanbul. Of course you have heard about some famous touristic and cultural locations but you can't leave it to chance. That the reason why this situation should be analyzed. If we understand the subject well, it's time for us to focus on the second section.<p>\n",
    "<br>\n",
    "**2,3,4. Data Requirements, Data Collection, and Data Understanding**    \n",
    "<br>\n",
    "<p>First of all, let's think about what kind of things I need. If you have a restaurant, having a customer should be your first importance. If you haven't break into market of a specific location yet, the number of potential custumer and their average life quality will be one of the important subjects for you. So I will use the most updated 2019 population datas of Istanbul counties. After that I will use the data set which has been created by a research of Istanbul University for the data of potential customers' life quality.This data set shows the index values of life quality according to the counties of Istanbul.<p>\n",
    "\n",
    "<p>Second of all, another significant informatin is the unit prices of rents. For this, I will use the data set which shows the unit prices of rents according to counties of Istanbul from a real estate website.<p>\n",
    "\n",
    "<p>Lastly, I will look up numbers of the opponents. For this, I will use Foursquare API. This API provides you to reach venues by categories of the specific location. <p>"
   ]
  },
  {
   "cell_type": "code",
   "execution_count": null,
   "metadata": {},
   "outputs": [],
   "source": []
  }
 ],
 "metadata": {
  "kernelspec": {
   "display_name": "Python 3",
   "language": "python",
   "name": "python3"
  },
  "language_info": {
   "codemirror_mode": {
    "name": "ipython",
    "version": 3
   },
   "file_extension": ".py",
   "mimetype": "text/x-python",
   "name": "python",
   "nbconvert_exporter": "python",
   "pygments_lexer": "ipython3",
   "version": "3.6.4"
  }
 },
 "nbformat": 4,
 "nbformat_minor": 2
}
